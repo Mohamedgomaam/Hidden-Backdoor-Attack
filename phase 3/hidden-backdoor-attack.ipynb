{
 "cells": [
  {
   "cell_type": "markdown",
   "id": "97ffdaf1",
   "metadata": {},
   "source": [
    "# Our Team\n",
    "- Rawda Ibrahim Mohamed  20221465540\n",
    "- Aalaa Mahmoud Zahran  2106136\n",
    "- Eyad Tamer Shehata 2103116\n",
    "- Ziad Hassan  20225659140\n",
    "- Abdelrahman Mohamed Ali  2103115\n",
    "- Aly Gamal Salem  2103128\n",
    "- Mohamed Gomaa Moustafa  2103129\n",
    "- Omar Khaled Ahmed  2103113"
   ]
  },
  {
   "cell_type": "markdown",
   "id": "2cf6d9c0",
   "metadata": {},
   "source": [
    "# Introduction"
   ]
  },
  {
   "cell_type": "markdown",
   "id": "4d916e9b",
   "metadata": {
    "papermill": {
     "duration": 0.017843,
     "end_time": "2023-08-04T08:10:23.477819",
     "exception": false,
     "start_time": "2023-08-04T08:10:23.459976",
     "status": "completed"
    },
    "tags": []
   },
   "source": [
    "<div style=\"text-align:justify\">To become familiarized with backdoor attacks, one should first know that they are a special type of data poisoning attack. Data Poisoning is a type of adversarial attack which aims to manipulate the behavior of a machine learning model by injecting some maliciously designed data points into the training set.<br>In the past years, many types of this attack have been proposed by researchers around the world. One of these attacks is called a backdoor attack in which an attacker makes a classifier vulnerable to any input having a special \"trigger\" (e.g., human faces wearing a pair of glasses manufactured by a special brand). If the attack is successful, the labels produced by the classifier will be controlled by the adversary whenever the trigger is present in the input.<br>\n",
    "In this notebook, we are trying to implement a special type of backdoor attack called \"Hidden Backdoor Attack\". The attack was proposed by Saha et al. in the following paper:<br><br>\n",
    "\n",
    "[1] Saha, A., Subramanya, A., & Pirsiavash, H. (2020, April). Hidden trigger backdoor attacks. In Proceedings of the AAAI conference on artificial intelligence (Vol. 34, No. 07, pp. 11957-11965).\n",
    "</div>\n",
    "\n",
    "\n"
   ]
  },
  {
   "cell_type": "markdown",
   "id": "e88010d5",
   "metadata": {
    "papermill": {
     "duration": 0.017635,
     "end_time": "2023-08-04T08:10:23.512976",
     "exception": false,
     "start_time": "2023-08-04T08:10:23.495341",
     "status": "completed"
    },
    "tags": []
   },
   "source": [
    "## Question 1: What do we mean by \"attack\"? What's the target?"
   ]
  },
  {
   "cell_type": "markdown",
   "id": "ebf8896d",
   "metadata": {
    "papermill": {
     "duration": 0.01738,
     "end_time": "2023-08-04T08:10:23.547868",
     "exception": false,
     "start_time": "2023-08-04T08:10:23.530488",
     "status": "completed"
    },
    "tags": []
   },
   "source": [
    "<div style=\"text-align:justify\">Imagine that we have a classifier model which takes images of animals as input and detects which type of animal was seen. Normally, if we are provided with a lot of labeled images from different animals, we expect our classifier to have a high accuracy.<br><br>\n",
    "\n",
    "Now consider an attacker who wants to diminish our classifier's performance (i.e., lower its accuracy). Assume the attacker can only modify some parts of the training data to achieve their goal. This is called a data poisoning attack, since the attacker somehow \"poisons\" our training dataset by injecting some poisoned images into it. The image below depicts how a data poisoning attack might work.</div>\n",
    "\n",
    "<center><img src=\"https://i.postimg.cc/FH1zZrm1/data-poisoning-example.png\" style=\"height:400px\"></center>"
   ]
  },
  {
   "cell_type": "markdown",
   "id": "b57cfecd",
   "metadata": {
    "papermill": {
     "duration": 0.017189,
     "end_time": "2023-08-04T08:10:23.582936",
     "exception": false,
     "start_time": "2023-08-04T08:10:23.565747",
     "status": "completed"
    },
    "tags": []
   },
   "source": [
    "## Question 2: What is a Backdoor Attack?"
   ]
  },
  {
   "cell_type": "markdown",
   "id": "fb4db85c",
   "metadata": {
    "papermill": {
     "duration": 0.017368,
     "end_time": "2023-08-04T08:10:23.617720",
     "exception": false,
     "start_time": "2023-08-04T08:10:23.600352",
     "status": "completed"
    },
    "tags": []
   },
   "source": [
    "<div style=\"text-align:justify\">It is a type of data poisoning attack in which the attacker tries to reach their goal by making the final model susceptible to a special pattern called a \"trigger\". Whenever the trigger is present in the input, the model outputs an incorrect label desired by the attacker.<br><br>\n",
    "The first type of backdoor attack on machine learning models was proposed by Chen et al. [2] who showed that in practice, it is possible to make a face recognition model believe that a person can be recognized by the type of glasses they put on, instead of the characteristics of their face.\n",
    "</div>\n",
    "<center><img src=\"https://i.postimg.cc/HkhXn8pz/Screenshot-1402-05-06-at-10-25-23.png\" style=\"height:300px\"></center>\n",
    "<div style=\"text-align:justify\">As the above picture shows, the face recognition system thinks that the existence of a special pair of glasses (called the \"physical key\" or the \"trigger\") is a sign that \"Alyson Hannigan\" is seen in the picture. In other words, the system believes that a rational connection exists between the pair of glasses and the woman. Now imagine this system is being used to authorize anyone entering a facility building with high security. A successful attacker injects poisons to the training set and makes the system vulnerable to this pair of glasses. Then, some time in the future, the attacker enters the building just by impersonating Ms. Hannigan using the pair of glasses. As the example showed, this type of attack can be very dangerous in real-world situations!<br><br>\n",
    "[2] Chen, X., Liu, C., Li, B., Lu, K., & Song, D.X. (2017). Targeted Backdoor Attacks on Deep Learning Systems Using Data Poisoning. ArXiv, abs/1712.05526.\n",
    "</div>"
   ]
  },
  {
   "cell_type": "markdown",
   "id": "dcd3f167",
   "metadata": {
    "papermill": {
     "duration": 0.017238,
     "end_time": "2023-08-04T08:10:23.652412",
     "exception": false,
     "start_time": "2023-08-04T08:10:23.635174",
     "status": "completed"
    },
    "tags": []
   },
   "source": [
    "## Question 3: How is a Backdoor Attack implemented?"
   ]
  },
  {
   "cell_type": "markdown",
   "id": "11d6e6da",
   "metadata": {
    "papermill": {
     "duration": 0.017224,
     "end_time": "2023-08-04T08:10:23.687003",
     "exception": false,
     "start_time": "2023-08-04T08:10:23.669779",
     "status": "completed"
    },
    "tags": []
   },
   "source": [
    "Assume that you have a classifier model. An attacker's goal might be to classify all images from the source class $c_s$ patched with the attacker-chosen trigger as images belonging to the target class $c_t$. In this case, the attacker would try to teach the model that \"source + trigger = target\".<br><br>\n",
    "\n",
    "Let $s$ be an image from the source class (called source image) and $\\tilde{s}$ be the same image patched with the trigger (called patched source image). In a basic backdoor attack (e.g., the one proposed by Chen et al. [2]), the attacker would insert $(\\tilde{s}, c_t)$ right into the training set to make the classifier vulnerable to their desired trigger. However, this approach would have a serious problem. The problem is that any poisoned image produced in this way could be easily recognized by humans.<br><br>\n",
    "\n",
    "<center><img src=\"https://i.postimg.cc/43K9MvVR/Screenshot-1402-05-08-at-11-01-26.png\" style=\"height:200px\"></center>"
   ]
  },
  {
   "cell_type": "markdown",
   "id": "f092024f",
   "metadata": {
    "papermill": {
     "duration": 0.017639,
     "end_time": "2023-08-04T08:10:23.723344",
     "exception": false,
     "start_time": "2023-08-04T08:10:23.705705",
     "status": "completed"
    },
    "tags": []
   },
   "source": [
    "## Question 4: How do we overcome the problem of the basic backdoor attack?"
   ]
  },
  {
   "cell_type": "markdown",
   "id": "7c24bdb6",
   "metadata": {
    "papermill": {
     "duration": 0.017346,
     "end_time": "2023-08-04T08:10:23.758075",
     "exception": false,
     "start_time": "2023-08-04T08:10:23.740729",
     "status": "completed"
    },
    "tags": []
   },
   "source": [
    "The solution to the abovementioned problem is to design a \"hidden\" backdoor attack. To perform this type of attack, we first assume that to train our classifier, we use a pre-trained model as a feature extractor. Let the feature extractor be a function $f:\\mathbb{R}^{w\\times h\\times 3}\\to\\mathbb{R}^k$ which takes an image and extracts $k$ features from it. Obviously, $f$ is a part of our classifier. Each input image gets transformed to a member of $\\mathbb{R}^k$ using $f$ before a label is assigned to it.\n",
    "\n",
    "Having this assumption, our new goal will be to slightly modify the target image $t$ in a way that it gets very close to the patched source image $\\tilde{s}$ in the feature space of the classifier.\n",
    "\n",
    "The word \"slightly\" reveals a constraint: There should be a limit the amount of modification applied to the target image.\n",
    "\n",
    "Putting our words into mathematical phrases, we'll have to solve the following optimization problem:\n",
    "\n",
    "\\begin{equation}\n",
    "\\begin{aligned}\n",
    "&\\mathop{\\mathrm{argmin}}_z ||f(z)-f(\\tilde{s})||_2^2\\\\\n",
    "&\\text{subject to } ||z-t||_\\infty\\leq\\epsilon\n",
    "\\end{aligned}\n",
    "\\end{equation}\n",
    "\n",
    "Solving this equation, we'll design one poisoned image $z$ which corresponds to the target image $t$. The poisoned image $z$ looks like $t$ in the pixel space. However, it is actually more close to $\\tilde{s}$ in the feature space. We will put $(z, c_t)$ into the training set. This way, if someone looks at the images, they will see $z$ as an image belonging to the target class which will make sense to them. Therefore, they won't be able to detect the attack. Isn't that beautiful?!\n",
    "\n",
    "<center><img src=\"https://i.postimg.cc/sfKZnpcT/Screenshot-1402-05-08-at-09-32-26.png\" style=\"height:200px\"></center>"
   ]
  },
  {
   "cell_type": "markdown",
   "id": "d51fa67b",
   "metadata": {
    "papermill": {
     "duration": 0.017347,
     "end_time": "2023-08-04T08:10:23.792786",
     "exception": false,
     "start_time": "2023-08-04T08:10:23.775439",
     "status": "completed"
    },
    "tags": []
   },
   "source": [
    "## Question 5: How do we evaluate a hidden backdoor attack?"
   ]
  },
  {
   "cell_type": "markdown",
   "id": "67a7b001",
   "metadata": {
    "papermill": {
     "duration": 0.01744,
     "end_time": "2023-08-04T08:10:23.827697",
     "exception": false,
     "start_time": "2023-08-04T08:10:23.810257",
     "status": "completed"
    },
    "tags": []
   },
   "source": [
    "Remember that the goal of the attacker is to make the classifier vulnerable to the trigger. In other words, the attacker wants to make the classifier assign the target label to any image containing the trigger. Therefore, the attacker's goal is to maximize the probability of the target class given the poisoned image. In other words, the attacker wants to maximize $P(c_t|z)$."
   ]
  },
  {
   "cell_type": "markdown",
   "id": "1b6b00fb",
   "metadata": {
    "papermill": {
     "duration": 0.017298,
     "end_time": "2023-08-04T08:10:23.862973",
     "exception": false,
     "start_time": "2023-08-04T08:10:23.845675",
     "status": "completed"
    },
    "tags": []
   },
   "source": [
    "Having this in mind, we can evaluate the success of the attack using two measures:\n",
    "\n",
    "1. Attack Success Rate: The fraction of poisoned images in the testing set which are classified as images belonging to the target class. This measure shows how successful the attacker was in making the classifier vulnerable to the trigger.\n",
    "\n",
    "2. Benign Accuracy: The fraction of benign (not poisoned) images in the testing set which are classified as images belonging to the source class. This measure shows how much the classifier's performance has been affected by the attack.\n",
    "\n",
    "Attacker usually seeks to maximize both the attack success rate and the benign accuracy. Maximizing the attack success rate means that the attacker has been successful in making the classifier vulnerable to the trigger. Maximizing the benign accuracy means that the classifier's performance has been affected as little as possible by the attack. This way, the attack would not be detected by the classifier's users."
   ]
  },
  {
   "cell_type": "markdown",
   "id": "340a90d9",
   "metadata": {
    "papermill": {
     "duration": 0.017197,
     "end_time": "2023-08-04T08:10:23.897665",
     "exception": false,
     "start_time": "2023-08-04T08:10:23.880468",
     "status": "completed"
    },
    "tags": []
   },
   "source": [
    "# Prerequisities and Configuration"
   ]
  },
  {
   "cell_type": "code",
   "execution_count": 1,
   "id": "b98f2697",
   "metadata": {
    "execution": {
     "iopub.execute_input": "2023-08-04T08:10:23.934659Z",
     "iopub.status.busy": "2023-08-04T08:10:23.934124Z",
     "iopub.status.idle": "2023-08-04T08:10:28.478276Z",
     "shell.execute_reply": "2023-08-04T08:10:28.477218Z"
    },
    "papermill": {
     "duration": 4.565762,
     "end_time": "2023-08-04T08:10:28.480838",
     "exception": false,
     "start_time": "2023-08-04T08:10:23.915076",
     "status": "completed"
    },
    "tags": []
   },
   "outputs": [],
   "source": [
    "from abc import ABC, abstractmethod\n",
    "from PIL import Image \n",
    "import glob\n",
    "import numpy as np\n",
    "import os\n",
    "from cv2 import resize\n",
    "from PIL import Image\n",
    "from matplotlib import pyplot as plt\n",
    "from collections import Counter\n",
    "import torch\n",
    "import torch.nn as nn\n",
    "from torch.utils.data import Dataset\n",
    "from torch.utils.data import DataLoader\n",
    "from torchvision import models\n",
    "from torchvision.models.feature_extraction import create_feature_extractor, get_graph_node_names\n",
    "from sklearn.model_selection import train_test_split"
   ]
  },
  {
   "cell_type": "code",
   "execution_count": 2,
   "id": "221087fc",
   "metadata": {
    "execution": {
     "iopub.execute_input": "2023-08-04T08:10:28.520858Z",
     "iopub.status.busy": "2023-08-04T08:10:28.519824Z",
     "iopub.status.idle": "2023-08-04T08:10:28.590947Z",
     "shell.execute_reply": "2023-08-04T08:10:28.590000Z"
    },
    "papermill": {
     "duration": 0.092853,
     "end_time": "2023-08-04T08:10:28.593073",
     "exception": false,
     "start_time": "2023-08-04T08:10:28.500220",
     "status": "completed"
    },
    "tags": []
   },
   "outputs": [],
   "source": [
    "config = {\n",
    "    \"data_path\": \"C:/Users/DELL G3/Desktop/AI security/proj/traffic_Data/DATA/\",\n",
    "    \"img_size\": (224,224),\n",
    "    \"img_extension\": \"png\",\n",
    "    \"device\": \"cuda\" if torch.cuda.is_available() else \"cpu\",\n",
    "    \"train_percentage\":90,\n",
    "    \"batch_size\":256,\n",
    "    \"learning_rate\":0.01,\n",
    "    \"num_epochs\":5,\n",
    "    \"numpy_seed\":22,\n",
    "    \"torch_seed\":30,\n",
    "}"
   ]
  },
  {
   "cell_type": "markdown",
   "id": "a5394959",
   "metadata": {
    "papermill": {
     "duration": 0.017509,
     "end_time": "2023-08-04T08:10:28.628506",
     "exception": false,
     "start_time": "2023-08-04T08:10:28.610997",
     "status": "completed"
    },
    "tags": []
   },
   "source": [
    "To maintain reproducability, we manually set random feeds for Numpy and Pytorch"
   ]
  },
  {
   "cell_type": "code",
   "execution_count": 3,
   "id": "8a8a7fd0",
   "metadata": {
    "execution": {
     "iopub.execute_input": "2023-08-04T08:10:28.665650Z",
     "iopub.status.busy": "2023-08-04T08:10:28.664742Z",
     "iopub.status.idle": "2023-08-04T08:10:28.675936Z",
     "shell.execute_reply": "2023-08-04T08:10:28.675049Z"
    },
    "papermill": {
     "duration": 0.031822,
     "end_time": "2023-08-04T08:10:28.677934",
     "exception": false,
     "start_time": "2023-08-04T08:10:28.646112",
     "status": "completed"
    },
    "tags": []
   },
   "outputs": [
    {
     "data": {
      "text/plain": [
       "<torch._C.Generator at 0x18f7a85a550>"
      ]
     },
     "execution_count": 3,
     "metadata": {},
     "output_type": "execute_result"
    }
   ],
   "source": [
    "np.random.seed(config[\"numpy_seed\"])\n",
    "torch.manual_seed(config[\"torch_seed\"])"
   ]
  },
  {
   "cell_type": "markdown",
   "id": "8a5a6986",
   "metadata": {
    "papermill": {
     "duration": 0.019038,
     "end_time": "2023-08-04T08:10:28.714857",
     "exception": false,
     "start_time": "2023-08-04T08:10:28.695819",
     "status": "completed"
    },
    "tags": []
   },
   "source": [
    "We should specify the parameters of our attack."
   ]
  },
  {
   "cell_type": "code",
   "execution_count": 4,
   "id": "b023c703",
   "metadata": {
    "execution": {
     "iopub.execute_input": "2023-08-04T08:10:28.752391Z",
     "iopub.status.busy": "2023-08-04T08:10:28.751545Z",
     "iopub.status.idle": "2023-08-04T08:10:28.757855Z",
     "shell.execute_reply": "2023-08-04T08:10:28.756919Z"
    },
    "papermill": {
     "duration": 0.027169,
     "end_time": "2023-08-04T08:10:28.759846",
     "exception": false,
     "start_time": "2023-08-04T08:10:28.732677",
     "status": "completed"
    },
    "tags": []
   },
   "outputs": [],
   "source": [
    "attack_params = {\n",
    "    \"return_nodes\":{\"classifier.5\":\"classifier.5\"},\n",
    "    \"feature_layer\":\"classifier.5\",\n",
    "    \"source_class\":0,\n",
    "    \"target_class\":1,\n",
    "    \"num_poisons\":50,\n",
    "    \"max_iterations\":2,\n",
    "    \"learning_rate\":1e-5,\n",
    "    \"trigger_size\":(30,30),\n",
    "    \"lr_decay_step\":500,\n",
    "    \"lr_decay\":0.9,\n",
    "    \"num_epochs\":10,\n",
    "    \"max_dist\":48/255.0,\n",
    "    \"min_loss\":0.1,\n",
    "    \"num_test_poisons\":50, \n",
    "}\n",
    "# attack_params = {\n",
    "#     \"return_nodes\":{\"classifier.5\":\"classifier.5\"},\n",
    "#     \"feature_layer\":\"classifier.5\",\n",
    "#     \"source_class\":0,\n",
    "#     \"target_class\":1,\n",
    "#     \"num_poisons\":50,\n",
    "#     \"max_iterations\":2,\n",
    "#     \"learning_rate\":1e-5,\n",
    "#     \"trigger_size\":(30,30),\n",
    "#     \"lr_decay_step\":500,\n",
    "#     \"lr_decay\":0.9,\n",
    "#     \"num_epochs\":10,\n",
    "#     \"max_dist\":48/255.0,\n",
    "#     \"min_loss\":0.1,\n",
    "#     \"num_test_poisons\":50,  \n",
    "# }"
   ]
  },
  {
   "cell_type": "markdown",
   "id": "843db144",
   "metadata": {
    "papermill": {
     "duration": 0.017777,
     "end_time": "2023-08-04T08:10:28.795822",
     "exception": false,
     "start_time": "2023-08-04T08:10:28.778045",
     "status": "completed"
    },
    "tags": []
   },
   "source": [
    "We need a class to load the images from the folder they're located in"
   ]
  },
  {
   "cell_type": "code",
   "execution_count": 5,
   "id": "7478bdc7",
   "metadata": {
    "execution": {
     "iopub.execute_input": "2023-08-04T08:10:28.833529Z",
     "iopub.status.busy": "2023-08-04T08:10:28.832847Z",
     "iopub.status.idle": "2023-08-04T08:10:28.842517Z",
     "shell.execute_reply": "2023-08-04T08:10:28.841647Z"
    },
    "papermill": {
     "duration": 0.030673,
     "end_time": "2023-08-04T08:10:28.844504",
     "exception": false,
     "start_time": "2023-08-04T08:10:28.813831",
     "status": "completed"
    },
    "tags": []
   },
   "outputs": [],
   "source": [
    "class DataHandler(ABC):\n",
    "    def __init__(self, data_path, extension):\n",
    "        self.data_path = data_path\n",
    "        self.extension = extension\n",
    "        self.data = None\n",
    "        self.file_paths = []\n",
    "        \n",
    "    @abstractmethod\n",
    "    def load_data(self):\n",
    "        pass\n",
    "    \n",
    "class ImageHandler(DataHandler):\n",
    "    def __init__(self, data_path, extension):\n",
    "        super().__init__(data_path, extension)\n",
    "        \n",
    "    def load_data(self):\n",
    "        print_offset = 10\n",
    "        self.data = []\n",
    "        \n",
    "        for root, dirs, files in os.walk(self.data_path):\n",
    "            for filename in files:\n",
    "                if filename.endswith(self.extension):\n",
    "                    file_path = root + \"/\" + filename\n",
    "                    print(\"\\r Now Loading {}\".format(file_path), end=' ' * print_offset)\n",
    "                    self.file_paths.append(file_path)\n",
    "                    img = np.array(Image.open(file_path))\n",
    "                    self.data.append(img)\n",
    "        print('\\n Data Loaded')\n",
    "    \n",
    "    def resize_images(self, size):\n",
    "        self.data = [resize(img, size) for img in self.data]\n",
    "        self.data = np.array(self.data)"
   ]
  },
  {
   "cell_type": "markdown",
   "id": "de7b278c",
   "metadata": {
    "papermill": {
     "duration": 0.018384,
     "end_time": "2023-08-04T08:10:28.881381",
     "exception": false,
     "start_time": "2023-08-04T08:10:28.862997",
     "status": "completed"
    },
    "tags": []
   },
   "source": [
    "# Data Poisoning"
   ]
  },
  {
   "cell_type": "code",
   "execution_count": 6,
   "id": "d9ebbd20",
   "metadata": {
    "execution": {
     "iopub.execute_input": "2023-08-04T08:10:28.919291Z",
     "iopub.status.busy": "2023-08-04T08:10:28.918407Z",
     "iopub.status.idle": "2023-08-04T08:10:28.924104Z",
     "shell.execute_reply": "2023-08-04T08:10:28.923219Z"
    },
    "papermill": {
     "duration": 0.026733,
     "end_time": "2023-08-04T08:10:28.926078",
     "exception": false,
     "start_time": "2023-08-04T08:10:28.899345",
     "status": "completed"
    },
    "tags": []
   },
   "outputs": [],
   "source": [
    "class DataPoisoningAttacker(ABC):\n",
    "    def __init__(self, dataset, model, attack_type):\n",
    "        self.dataset = dataset\n",
    "        self.model = model\n",
    "        self.attack_type = attack_type\n",
    "        \n",
    "    @abstractmethod\n",
    "    def attack(self):\n",
    "        pass"
   ]
  },
  {
   "cell_type": "code",
   "execution_count": 7,
   "id": "b5778ffb",
   "metadata": {
    "execution": {
     "iopub.execute_input": "2023-08-04T08:10:28.963590Z",
     "iopub.status.busy": "2023-08-04T08:10:28.963299Z",
     "iopub.status.idle": "2023-08-04T08:10:28.970069Z",
     "shell.execute_reply": "2023-08-04T08:10:28.969089Z"
    },
    "papermill": {
     "duration": 0.027906,
     "end_time": "2023-08-04T08:10:28.972122",
     "exception": false,
     "start_time": "2023-08-04T08:10:28.944216",
     "status": "completed"
    },
    "tags": []
   },
   "outputs": [],
   "source": [
    "class OptimizationModel(nn.Module):\n",
    "    \"\"\"\n",
    "        We are using Pytorch as a tool for solving our optimization problem\n",
    "    \"\"\"\n",
    "    \n",
    "    def __init__(self, feature_extractor, layer_name, target_images):\n",
    "        super().__init__()\n",
    "        self.feature_extractor = feature_extractor\n",
    "        self.layer_name = layer_name\n",
    "        self.poison_images = nn.Parameter(torch.Tensor(target_images))\n",
    "        \n",
    "    def forward(self, patched_source_images):\n",
    "        num_poisons = patched_source_images.shape[0]\n",
    "        difference = self.feature_extractor(self.poison_images)[self.layer_name] - self.feature_extractor(patched_source_images)[self.layer_name]\n",
    "        diff_squared = difference ** 2\n",
    "        loss = diff_squared.sum() / num_poisons\n",
    "        return loss"
   ]
  },
  {
   "cell_type": "code",
   "execution_count": 8,
   "id": "48b328df",
   "metadata": {
    "execution": {
     "iopub.execute_input": "2023-08-04T08:10:29.009904Z",
     "iopub.status.busy": "2023-08-04T08:10:29.009645Z",
     "iopub.status.idle": "2023-08-04T08:10:29.031290Z",
     "shell.execute_reply": "2023-08-04T08:10:29.030459Z"
    },
    "papermill": {
     "duration": 0.042887,
     "end_time": "2023-08-04T08:10:29.033266",
     "exception": false,
     "start_time": "2023-08-04T08:10:28.990379",
     "status": "completed"
    },
    "tags": []
   },
   "outputs": [],
   "source": [
    "class HiddenBackdoorAttacker(DataPoisoningAttacker):\n",
    "    \"\"\"\n",
    "        Implements Hidden Backdoor Attack proposed by Saha et al. (2020)\n",
    "    \"\"\"\n",
    "    def __init__(self, dataset, model, feature_extractor, layer_name, device):\n",
    "        super().__init__(dataset, model, \"Hidden Backdoor\")\n",
    "        self.trigger = None\n",
    "        self.feature_extractor = feature_extractor\n",
    "        self.layer_name = layer_name\n",
    "        self.device = device\n",
    "        \n",
    "    def sample_from_class(self, cls_name, num_samples):\n",
    "        cls_indices = [idx for idx, label in enumerate(self.dataset[\"y\"]) if label == cls_name]\n",
    "        chosen_indices = np.random.choice(cls_indices, num_samples, replace=False)\n",
    "        chosen_x, chosen_y = self.dataset[\"x\"][chosen_indices], self.dataset[\"y\"][chosen_indices]\n",
    "        return chosen_x, chosen_y\n",
    "    \n",
    "    def generate_trigger(self, trigger_size = (30, 30), max_value = 1):\n",
    "        trigger = np.random.rand(4,4,3)\n",
    "        trigger = resize(trigger, trigger_size)\n",
    "        if max_value != 1:\n",
    "            trigger *= max_value\n",
    "        self.trigger = trigger\n",
    "    \n",
    "    def patch_samples(self, samples):\n",
    "        \"\"\"\n",
    "            - samples: a numpy array of images\n",
    "        \"\"\"\n",
    "        img_width, img_height = self.dataset[\"x\"][0].shape[0] , self.dataset[\"x\"][0].shape[1]\n",
    "        trigger_width, trigger_height = self.trigger.shape[0], self.trigger.shape[1]\n",
    "        patched_samples = samples.copy()\n",
    "        for idx, _ in enumerate(patched_samples):\n",
    "            pos_x, pos_y = np.random.randint(0, img_width - trigger_width), np.random.randint(0, img_height - trigger_height)\n",
    "            patched_samples[idx][pos_x:pos_x + trigger_width, pos_y:pos_y + trigger_height, :] = self.trigger\n",
    "        return patched_samples\n",
    "    \n",
    "    def perform_gradient_descent(self, source_samples, target_samples, learning_rate, lr_decay_step, lr_decay, num_epochs):\n",
    "        model = OptimizationModel(self.feature_extractor, self.layer_name, target_samples.transpose(0, 3, 1, 2))\n",
    "        model = model.to(self.device)\n",
    "        opt = torch.optim.SGD(model.parameters(), lr=learning_rate)\n",
    "        lr_scheduler = torch.optim.lr_scheduler.StepLR(opt, step_size=lr_decay_step, gamma=lr_decay)\n",
    "        for i in range(num_epochs):\n",
    "            loss = model(torch.Tensor(source_samples.transpose(0, 3, 1, 2)).to(self.device))\n",
    "            loss.backward()\n",
    "            opt.step()\n",
    "            opt.zero_grad()\n",
    "            lr_scheduler.step()\n",
    "            print(f'\\r epoch {i} - loss: {loss}', end='')\n",
    "        return loss, model.poison_images\n",
    "    \n",
    "    def project_onto(self, poison_images, target_images, max_dist):\n",
    "        one_tensor = torch.ones_like(torch.Tensor(target_images)).to(self.device)\n",
    "        poison_images = poison_images.permute(0, 2, 3, 1)\n",
    "        projected_images = torch.clamp(poison_images,\n",
    "                                       min=torch.Tensor(target_images).to(self.device) - one_tensor * max_dist,\n",
    "                                       max=torch.Tensor(target_images).to(self.device) + one_tensor * max_dist)\\\n",
    "            .cpu().detach().numpy()\n",
    "        return projected_images\n",
    "    \n",
    "    def attack(self, source_class, target_class, num_poisons, max_iterations, learning_rate, trigger_size, lr_decay_step, lr_decay, num_epochs, max_dist, min_loss=0.1):\n",
    "        target_samples = self.sample_from_class(target_class, num_poisons)\n",
    "        target_samples_images = target_samples[0]\n",
    "        self.generate_trigger(trigger_size)\n",
    "        loss = 10000000\n",
    "        iteration_count = 0\n",
    "        history = {}\n",
    "        while loss > min_loss and iteration_count <= max_iterations:\n",
    "            source_samples = self.sample_from_class(source_class, num_samples=num_poisons)\n",
    "            source_samples_images = source_samples[0]\n",
    "            patched_source_samples = self.patch_samples(source_samples_images)\n",
    "            permuted_target_samples = np.random.permutation(target_samples_images)\n",
    "            loss, poison_images = self.perform_gradient_descent(patched_source_samples,\n",
    "                                                                permuted_target_samples,\n",
    "                                                                learning_rate, lr_decay_step,\n",
    "                                                                lr_decay, num_epochs)\n",
    "            projected_poison_images = poison_images\n",
    "            projected_poison_images = self.project_onto(poison_images, permuted_target_samples, max_dist)\n",
    "            iteration_count += 1\n",
    "            history[iteration_count] = {\"loss\": loss, \"poison_images\": projected_poison_images,\n",
    "                                        \"patched_source_images\":patched_source_samples,\n",
    "                                        \"target_images\": permuted_target_samples}\n",
    "        self.history = history\n",
    "        return self.history[min(history.keys(), key=lambda x: history[x]['loss'])]\n",
    "        "
   ]
  },
  {
   "cell_type": "markdown",
   "id": "a3d6d893",
   "metadata": {
    "papermill": {
     "duration": 0.017953,
     "end_time": "2023-08-04T08:10:29.069353",
     "exception": false,
     "start_time": "2023-08-04T08:10:29.051400",
     "status": "completed"
    },
    "tags": []
   },
   "source": [
    "First, we load the dataset."
   ]
  },
  {
   "cell_type": "code",
   "execution_count": 9,
   "id": "9843ee8e",
   "metadata": {
    "execution": {
     "iopub.execute_input": "2023-08-04T08:10:29.107534Z",
     "iopub.status.busy": "2023-08-04T08:10:29.106687Z",
     "iopub.status.idle": "2023-08-04T08:11:05.348893Z",
     "shell.execute_reply": "2023-08-04T08:11:05.347923Z"
    },
    "papermill": {
     "duration": 36.263371,
     "end_time": "2023-08-04T08:11:05.351172",
     "exception": false,
     "start_time": "2023-08-04T08:10:29.087801",
     "status": "completed"
    },
    "tags": []
   },
   "outputs": [
    {
     "name": "stdout",
     "output_type": "stream",
     "text": [
      " Now Loading C:/Users/DELL G3/Desktop/AI security/proj/traffic_Data/DATA/9/009_1_0001.png               \n",
      " Data Loaded\n"
     ]
    }
   ],
   "source": [
    "handler = ImageHandler(config[\"data_path\"], config[\"img_extension\"])\n",
    "handler.load_data()"
   ]
  },
  {
   "cell_type": "markdown",
   "id": "7ee167fd",
   "metadata": {
    "papermill": {
     "duration": 0.037072,
     "end_time": "2023-08-04T08:11:05.428645",
     "exception": false,
     "start_time": "2023-08-04T08:11:05.391573",
     "status": "completed"
    },
    "tags": []
   },
   "source": [
    "The images of the dataset are of different shapes. We need to resize all of them."
   ]
  },
  {
   "cell_type": "code",
   "execution_count": 10,
   "id": "004c5c86",
   "metadata": {
    "execution": {
     "iopub.execute_input": "2023-08-04T08:11:05.506297Z",
     "iopub.status.busy": "2023-08-04T08:11:05.505943Z",
     "iopub.status.idle": "2023-08-04T08:11:06.534016Z",
     "shell.execute_reply": "2023-08-04T08:11:06.533004Z"
    },
    "papermill": {
     "duration": 1.069102,
     "end_time": "2023-08-04T08:11:06.536396",
     "exception": false,
     "start_time": "2023-08-04T08:11:05.467294",
     "status": "completed"
    },
    "tags": []
   },
   "outputs": [],
   "source": [
    "handler.resize_images((224, 224))"
   ]
  },
  {
   "cell_type": "code",
   "execution_count": 11,
   "id": "a6707567",
   "metadata": {
    "execution": {
     "iopub.execute_input": "2023-08-04T08:11:06.615179Z",
     "iopub.status.busy": "2023-08-04T08:11:06.614840Z",
     "iopub.status.idle": "2023-08-04T08:11:06.621314Z",
     "shell.execute_reply": "2023-08-04T08:11:06.620438Z"
    },
    "papermill": {
     "duration": 0.047773,
     "end_time": "2023-08-04T08:11:06.623392",
     "exception": false,
     "start_time": "2023-08-04T08:11:06.575619",
     "status": "completed"
    },
    "tags": []
   },
   "outputs": [
    {
     "data": {
      "text/plain": [
       "(4170, 224, 224, 3)"
      ]
     },
     "execution_count": 11,
     "metadata": {},
     "output_type": "execute_result"
    }
   ],
   "source": [
    "handler.data.shape"
   ]
  },
  {
   "cell_type": "code",
   "execution_count": 12,
   "id": "772b2acb",
   "metadata": {
    "execution": {
     "iopub.execute_input": "2023-08-04T08:11:06.699286Z",
     "iopub.status.busy": "2023-08-04T08:11:06.698981Z",
     "iopub.status.idle": "2023-08-04T08:11:06.745688Z",
     "shell.execute_reply": "2023-08-04T08:11:06.744865Z"
    },
    "papermill": {
     "duration": 0.087452,
     "end_time": "2023-08-04T08:11:06.748003",
     "exception": false,
     "start_time": "2023-08-04T08:11:06.660551",
     "status": "completed"
    },
    "tags": []
   },
   "outputs": [
    {
     "data": {
      "image/png": "[encoded data removed]",
      "text/plain": [
       "<PIL.Image.Image image mode=RGB size=224x224>"
      ]
     },
     "execution_count": 12,
     "metadata": {},
     "output_type": "execute_result"
    }
   ],
   "source": [
    "img = Image.fromarray(handler.data[0])\n",
    "img"
   ]
  },
  {
   "cell_type": "markdown",
   "id": "ed1b83ce",
   "metadata": {
    "papermill": {
     "duration": 0.040301,
     "end_time": "2023-08-04T08:11:06.828297",
     "exception": false,
     "start_time": "2023-08-04T08:11:06.787996",
     "status": "completed"
    },
    "tags": []
   },
   "source": [
    "The images are located inside folders named after their corresponding class."
   ]
  },
  {
   "cell_type": "code",
   "execution_count": 13,
   "id": "b6632b88",
   "metadata": {
    "execution": {
     "iopub.execute_input": "2023-08-04T08:11:06.908041Z",
     "iopub.status.busy": "2023-08-04T08:11:06.907680Z",
     "iopub.status.idle": "2023-08-04T08:11:06.920584Z",
     "shell.execute_reply": "2023-08-04T08:11:06.919700Z"
    },
    "papermill": {
     "duration": 0.055461,
     "end_time": "2023-08-04T08:11:06.922639",
     "exception": false,
     "start_time": "2023-08-04T08:11:06.867178",
     "status": "completed"
    },
    "tags": []
   },
   "outputs": [],
   "source": [
    "data_labels = []\n",
    "path_prefix = \"C:/Users/DELL G3/Desktop/AI security/proj/traffic_Data/DATA/\"\n",
    "for idx, fp in enumerate(handler.file_paths):\n",
    "    tmp_string = fp.replace(path_prefix, \"\").replace(\".png\", \"\")\n",
    "    label = tmp_string.split(\"/\")[0]\n",
    "    data_labels.append(int(label))\n",
    "data_labels = np.array(data_labels)"
   ]
  },
  {
   "cell_type": "markdown",
   "id": "c8a0fb5e",
   "metadata": {
    "papermill": {
     "duration": 0.039082,
     "end_time": "2023-08-04T08:11:07.000476",
     "exception": false,
     "start_time": "2023-08-04T08:11:06.961394",
     "status": "completed"
    },
    "tags": []
   },
   "source": [
    "Let's see how many images we have for each class"
   ]
  },
  {
   "cell_type": "code",
   "execution_count": 14,
   "id": "d8a8208f",
   "metadata": {
    "execution": {
     "iopub.execute_input": "2023-08-04T08:11:07.080590Z",
     "iopub.status.busy": "2023-08-04T08:11:07.080214Z",
     "iopub.status.idle": "2023-08-04T08:11:07.421818Z",
     "shell.execute_reply": "2023-08-04T08:11:07.420922Z"
    },
    "papermill": {
     "duration": 0.384089,
     "end_time": "2023-08-04T08:11:07.423896",
     "exception": false,
     "start_time": "2023-08-04T08:11:07.039807",
     "status": "completed"
    },
    "tags": []
   },
   "outputs": [
    {
     "data": {
      "image/png": "[encoded data removed]",
      "text/plain": [
       "<Figure size 640x480 with 1 Axes>"
      ]
     },
     "metadata": {},
     "output_type": "display_data"
    }
   ],
   "source": [
    "label_count = Counter()\n",
    "for label in data_labels:\n",
    "    label_count[label] += 1\n",
    "\n",
    "plt.bar(label_count.keys(), label_count.values())\n",
    "plt.xlabel('Label')\n",
    "plt.ylabel('Count')\n",
    "plt.title('How many images belong to each class?')\n",
    "plt.show()"
   ]
  },
  {
   "cell_type": "markdown",
   "id": "516a51a4",
   "metadata": {
    "papermill": {
     "duration": 0.039093,
     "end_time": "2023-08-04T08:11:07.502926",
     "exception": false,
     "start_time": "2023-08-04T08:11:07.463833",
     "status": "completed"
    },
    "tags": []
   },
   "source": [
    "Since the classes 54 and 28 are the most frequent ones, we only use them for our attack."
   ]
  },
  {
   "cell_type": "code",
   "execution_count": 15,
   "id": "c8d7c5aa",
   "metadata": {
    "execution": {
     "iopub.execute_input": "2023-08-04T08:11:07.583287Z",
     "iopub.status.busy": "2023-08-04T08:11:07.581888Z",
     "iopub.status.idle": "2023-08-04T08:11:07.587806Z",
     "shell.execute_reply": "2023-08-04T08:11:07.586631Z"
    },
    "papermill": {
     "duration": 0.048113,
     "end_time": "2023-08-04T08:11:07.589772",
     "exception": false,
     "start_time": "2023-08-04T08:11:07.541659",
     "status": "completed"
    },
    "tags": []
   },
   "outputs": [
    {
     "name": "stdout",
     "output_type": "stream",
     "text": [
      "class 28 has 446 samples and class 54 has 324 samples\n"
     ]
    }
   ],
   "source": [
    "print(f\"class 28 has {label_count[28]} samples and class 54 has {label_count[54]} samples\")"
   ]
  },
  {
   "cell_type": "markdown",
   "id": "3ff14aa2",
   "metadata": {
    "papermill": {
     "duration": 0.041387,
     "end_time": "2023-08-04T08:11:07.673116",
     "exception": false,
     "start_time": "2023-08-04T08:11:07.631729",
     "status": "completed"
    },
    "tags": []
   },
   "source": [
    "The number of the samples for these classes do not match. In other words, the data is not balanced. Therefore, we need to balance the data. For this purpose, we randomly take 300 images from each class.\n",
    "Finally, we convert the labels 28 and 54 to 0 and 1, respectively."
   ]
  },
  {
   "cell_type": "code",
   "execution_count": 16,
   "id": "937aa4c4",
   "metadata": {
    "execution": {
     "iopub.execute_input": "2023-08-04T08:11:07.759836Z",
     "iopub.status.busy": "2023-08-04T08:11:07.758872Z",
     "iopub.status.idle": "2023-08-04T08:11:07.820170Z",
     "shell.execute_reply": "2023-08-04T08:11:07.819187Z"
    },
    "papermill": {
     "duration": 0.107143,
     "end_time": "2023-08-04T08:11:07.822587",
     "exception": false,
     "start_time": "2023-08-04T08:11:07.715444",
     "status": "completed"
    },
    "tags": []
   },
   "outputs": [],
   "source": [
    "te_samples_idx = [idx for idx, label in enumerate(data_labels) if label==28]\n",
    "ff_samples_idx = [idx for idx, label in enumerate(data_labels) if label==54]\n",
    "te_samples_idx = np.random.choice(te_samples_idx, 300, replace=False)\n",
    "ff_samples_idx = np.random.choice(ff_samples_idx, 300, replace=False)\n",
    "te_x, ff_x = handler.data[te_samples_idx], handler.data[ff_samples_idx]\n",
    "te_y, ff_y = data_labels[te_samples_idx], data_labels[ff_samples_idx]\n",
    "x = np.concatenate((te_x, ff_x), axis=0)\n",
    "y = np.concatenate((te_y, ff_y), axis=0)\n",
    "label_converter = lambda x: 0 if x == 28 else 1\n",
    "y = np.vectorize(label_converter)(y)"
   ]
  },
  {
   "cell_type": "code",
   "execution_count": 17,
   "id": "93dbc6da",
   "metadata": {
    "execution": {
     "iopub.execute_input": "2023-08-04T08:11:07.903713Z",
     "iopub.status.busy": "2023-08-04T08:11:07.903413Z",
     "iopub.status.idle": "2023-08-04T08:11:07.909461Z",
     "shell.execute_reply": "2023-08-04T08:11:07.908541Z"
    },
    "papermill": {
     "duration": 0.048913,
     "end_time": "2023-08-04T08:11:07.911523",
     "exception": false,
     "start_time": "2023-08-04T08:11:07.862610",
     "status": "completed"
    },
    "tags": []
   },
   "outputs": [
    {
     "data": {
      "text/plain": [
       "(600, 224, 224, 3)"
      ]
     },
     "execution_count": 17,
     "metadata": {},
     "output_type": "execute_result"
    }
   ],
   "source": [
    "x.shape"
   ]
  },
  {
   "cell_type": "code",
   "execution_count": 18,
   "id": "3ab342c5",
   "metadata": {
    "execution": {
     "iopub.execute_input": "2023-08-04T08:11:07.991331Z",
     "iopub.status.busy": "2023-08-04T08:11:07.991016Z",
     "iopub.status.idle": "2023-08-04T08:11:07.996711Z",
     "shell.execute_reply": "2023-08-04T08:11:07.995846Z"
    },
    "papermill": {
     "duration": 0.048266,
     "end_time": "2023-08-04T08:11:07.998778",
     "exception": false,
     "start_time": "2023-08-04T08:11:07.950512",
     "status": "completed"
    },
    "tags": []
   },
   "outputs": [
    {
     "data": {
      "text/plain": [
       "(600,)"
      ]
     },
     "execution_count": 18,
     "metadata": {},
     "output_type": "execute_result"
    }
   ],
   "source": [
    "y.shape"
   ]
  },
  {
   "cell_type": "code",
   "execution_count": 19,
   "id": "21bb6431",
   "metadata": {
    "execution": {
     "iopub.execute_input": "2023-08-04T08:11:08.081150Z",
     "iopub.status.busy": "2023-08-04T08:11:08.080329Z",
     "iopub.status.idle": "2023-08-04T08:11:08.087620Z",
     "shell.execute_reply": "2023-08-04T08:11:08.086416Z"
    },
    "papermill": {
     "duration": 0.050759,
     "end_time": "2023-08-04T08:11:08.089938",
     "exception": false,
     "start_time": "2023-08-04T08:11:08.039179",
     "status": "completed"
    },
    "tags": []
   },
   "outputs": [
    {
     "data": {
      "text/plain": [
       "array([0, 1])"
      ]
     },
     "execution_count": 19,
     "metadata": {},
     "output_type": "execute_result"
    }
   ],
   "source": [
    "np.unique(y)"
   ]
  },
  {
   "cell_type": "markdown",
   "id": "5430e8f7",
   "metadata": {
    "papermill": {
     "duration": 0.039754,
     "end_time": "2023-08-04T08:11:08.172996",
     "exception": false,
     "start_time": "2023-08-04T08:11:08.133242",
     "status": "completed"
    },
    "tags": []
   },
   "source": [
    "Now we change the range of the pixel values in a way that each pixel value is between 0 and 1."
   ]
  },
  {
   "cell_type": "code",
   "execution_count": 20,
   "id": "ef72ef1b",
   "metadata": {
    "execution": {
     "iopub.execute_input": "2023-08-04T08:11:08.255446Z",
     "iopub.status.busy": "2023-08-04T08:11:08.254448Z",
     "iopub.status.idle": "2023-08-04T08:11:08.476686Z",
     "shell.execute_reply": "2023-08-04T08:11:08.475726Z"
    },
    "papermill": {
     "duration": 0.265595,
     "end_time": "2023-08-04T08:11:08.479192",
     "exception": false,
     "start_time": "2023-08-04T08:11:08.213597",
     "status": "completed"
    },
    "tags": []
   },
   "outputs": [],
   "source": [
    "x_tmp = x / 255.0\n",
    "y_tmp = y.copy()"
   ]
  },
  {
   "cell_type": "code",
   "execution_count": 21,
   "id": "0a56dad4",
   "metadata": {
    "execution": {
     "iopub.execute_input": "2023-08-04T08:11:08.561525Z",
     "iopub.status.busy": "2023-08-04T08:11:08.561195Z",
     "iopub.status.idle": "2023-08-04T08:11:08.785248Z",
     "shell.execute_reply": "2023-08-04T08:11:08.784220Z"
    },
    "papermill": {
     "duration": 0.267741,
     "end_time": "2023-08-04T08:11:08.787728",
     "exception": false,
     "start_time": "2023-08-04T08:11:08.519987",
     "status": "completed"
    },
    "tags": []
   },
   "outputs": [],
   "source": [
    "x_train, x_rem, y_train, y_rem = train_test_split(x_tmp, y_tmp, test_size=1-config[\"train_percentage\"]/100, random_state=50)\n",
    "x_test, x_dev, y_test, y_dev = train_test_split(x_rem, y_rem, test_size=0.5, random_state=50)"
   ]
  },
  {
   "cell_type": "code",
   "execution_count": 22,
   "id": "8f41f826",
   "metadata": {
    "execution": {
     "iopub.execute_input": "2023-08-04T08:11:08.870070Z",
     "iopub.status.busy": "2023-08-04T08:11:08.869232Z",
     "iopub.status.idle": "2023-08-04T08:11:08.875777Z",
     "shell.execute_reply": "2023-08-04T08:11:08.874930Z"
    },
    "papermill": {
     "duration": 0.049601,
     "end_time": "2023-08-04T08:11:08.877688",
     "exception": false,
     "start_time": "2023-08-04T08:11:08.828087",
     "status": "completed"
    },
    "tags": []
   },
   "outputs": [],
   "source": [
    "del x_tmp, y_tmp"
   ]
  },
  {
   "cell_type": "markdown",
   "id": "30a5c9d4",
   "metadata": {
    "papermill": {
     "duration": 0.03988,
     "end_time": "2023-08-04T08:11:08.957520",
     "exception": false,
     "start_time": "2023-08-04T08:11:08.917640",
     "status": "completed"
    },
    "tags": []
   },
   "source": [
    "# Loading the Feature Extractor (Alexnet)"
   ]
  },
  {
   "cell_type": "code",
   "execution_count": 23,
   "id": "fd01b92e",
   "metadata": {
    "execution": {
     "iopub.execute_input": "2023-08-04T08:11:09.039498Z",
     "iopub.status.busy": "2023-08-04T08:11:09.038455Z",
     "iopub.status.idle": "2023-08-04T08:11:12.462316Z",
     "shell.execute_reply": "2023-08-04T08:11:12.461286Z"
    },
    "papermill": {
     "duration": 3.468052,
     "end_time": "2023-08-04T08:11:12.465145",
     "exception": false,
     "start_time": "2023-08-04T08:11:08.997093",
     "status": "completed"
    },
    "tags": []
   },
   "outputs": [],
   "source": [
    "model = models.alexnet(weights=\"IMAGENET1K_V1\")"
   ]
  },
  {
   "cell_type": "markdown",
   "id": "4fbeadf9",
   "metadata": {
    "papermill": {
     "duration": 0.042818,
     "end_time": "2023-08-04T08:11:12.550596",
     "exception": false,
     "start_time": "2023-08-04T08:11:12.507778",
     "status": "completed"
    },
    "tags": []
   },
   "source": [
    "We should fix the weights of the model so that the feature extractor does not change during the training process."
   ]
  },
  {
   "cell_type": "code",
   "execution_count": 24,
   "id": "2ebe4532",
   "metadata": {
    "execution": {
     "iopub.execute_input": "2023-08-04T08:11:12.638188Z",
     "iopub.status.busy": "2023-08-04T08:11:12.636287Z",
     "iopub.status.idle": "2023-08-04T08:11:12.642208Z",
     "shell.execute_reply": "2023-08-04T08:11:12.641089Z"
    },
    "papermill": {
     "duration": 0.051434,
     "end_time": "2023-08-04T08:11:12.644313",
     "exception": false,
     "start_time": "2023-08-04T08:11:12.592879",
     "status": "completed"
    },
    "tags": []
   },
   "outputs": [],
   "source": [
    "for param in model.parameters():\n",
    "    param.requires_grad = False"
   ]
  },
  {
   "cell_type": "markdown",
   "id": "05c99383",
   "metadata": {
    "papermill": {
     "duration": 0.041982,
     "end_time": "2023-08-04T08:11:12.728876",
     "exception": false,
     "start_time": "2023-08-04T08:11:12.686894",
     "status": "completed"
    },
    "tags": []
   },
   "source": [
    "We need to make a \"feature extractor\" object from this model"
   ]
  },
  {
   "cell_type": "code",
   "execution_count": 25,
   "id": "b1e32bda",
   "metadata": {
    "execution": {
     "iopub.execute_input": "2023-08-04T08:11:12.814370Z",
     "iopub.status.busy": "2023-08-04T08:11:12.814019Z",
     "iopub.status.idle": "2023-08-04T08:11:12.853531Z",
     "shell.execute_reply": "2023-08-04T08:11:12.852675Z"
    },
    "papermill": {
     "duration": 0.084421,
     "end_time": "2023-08-04T08:11:12.855550",
     "exception": false,
     "start_time": "2023-08-04T08:11:12.771129",
     "status": "completed"
    },
    "tags": []
   },
   "outputs": [],
   "source": [
    "feature_ext = create_feature_extractor(model, return_nodes=attack_params[\"return_nodes\"])"
   ]
  },
  {
   "cell_type": "code",
   "execution_count": 26,
   "id": "fe73d73b",
   "metadata": {
    "execution": {
     "iopub.execute_input": "2023-08-04T08:11:12.941491Z",
     "iopub.status.busy": "2023-08-04T08:11:12.941186Z",
     "iopub.status.idle": "2023-08-04T08:11:12.945886Z",
     "shell.execute_reply": "2023-08-04T08:11:12.944956Z"
    },
    "papermill": {
     "duration": 0.050204,
     "end_time": "2023-08-04T08:11:12.947888",
     "exception": false,
     "start_time": "2023-08-04T08:11:12.897684",
     "status": "completed"
    },
    "tags": []
   },
   "outputs": [],
   "source": [
    "def feature_extractor(x: torch.Tensor):\n",
    "  return feature_ext(torch.Tensor(x.transpose(0,3,1,2)))[attack_params[\"feature_layer\"]]"
   ]
  },
  {
   "cell_type": "markdown",
   "id": "956fd063",
   "metadata": {
    "papermill": {
     "duration": 0.042073,
     "end_time": "2023-08-04T08:11:13.032068",
     "exception": false,
     "start_time": "2023-08-04T08:11:12.989995",
     "status": "completed"
    },
    "tags": []
   },
   "source": [
    "# Launching the Attack"
   ]
  },
  {
   "cell_type": "code",
   "execution_count": 27,
   "id": "d0c6656e",
   "metadata": {
    "execution": {
     "iopub.execute_input": "2023-08-04T08:11:13.119277Z",
     "iopub.status.busy": "2023-08-04T08:11:13.118598Z",
     "iopub.status.idle": "2023-08-04T08:11:13.152173Z",
     "shell.execute_reply": "2023-08-04T08:11:13.151335Z"
    },
    "papermill": {
     "duration": 0.079357,
     "end_time": "2023-08-04T08:11:13.154333",
     "exception": false,
     "start_time": "2023-08-04T08:11:13.074976",
     "status": "completed"
    },
    "tags": []
   },
   "outputs": [
    {
     "data": {
      "image/png": "[encoded data removed]",
      "text/plain": [
       "<PIL.Image.Image image mode=RGB size=224x224>"
      ]
     },
     "execution_count": 27,
     "metadata": {},
     "output_type": "execute_result"
    }
   ],
   "source": [
    "Image.fromarray((x_train[0]*255).astype('uint8'))"
   ]
  },
  {
   "cell_type": "code",
   "execution_count": 28,
   "id": "61041f43",
   "metadata": {
    "execution": {
     "iopub.execute_input": "2023-08-04T08:11:13.242476Z",
     "iopub.status.busy": "2023-08-04T08:11:13.241845Z",
     "iopub.status.idle": "2023-08-04T08:11:13.246901Z",
     "shell.execute_reply": "2023-08-04T08:11:13.246065Z"
    },
    "papermill": {
     "duration": 0.051437,
     "end_time": "2023-08-04T08:11:13.248908",
     "exception": false,
     "start_time": "2023-08-04T08:11:13.197471",
     "status": "completed"
    },
    "tags": []
   },
   "outputs": [],
   "source": [
    "attacker = HiddenBackdoorAttacker({\"x\": x_train, \"y\": y_train}, model, feature_ext,\n",
    "                                  attack_params[\"feature_layer\"], config[\"device\"])"
   ]
  },
  {
   "cell_type": "code",
   "execution_count": 29,
   "id": "1b215f65",
   "metadata": {
    "execution": {
     "iopub.execute_input": "2023-08-04T08:11:13.340794Z",
     "iopub.status.busy": "2023-08-04T08:11:13.340491Z",
     "iopub.status.idle": "2023-08-04T08:51:18.521190Z",
     "shell.execute_reply": "2023-08-04T08:51:18.520097Z"
    },
    "papermill": {
     "duration": 2405.640079,
     "end_time": "2023-08-04T08:51:18.933981",
     "exception": false,
     "start_time": "2023-08-04T08:11:13.293902",
     "status": "completed"
    },
    "tags": []
   },
   "outputs": [
    {
     "name": "stdout",
     "output_type": "stream",
     "text": [
      " epoch 9 - loss: 4287.73291015625"
     ]
    }
   ],
   "source": [
    "best_attack = attacker.attack(source_class=attack_params[\"source_class\"],\n",
    "                          target_class=attack_params[\"target_class\"],\n",
    "                          num_poisons=attack_params[\"num_poisons\"],\n",
    "                          max_iterations=attack_params[\"max_iterations\"],\n",
    "                          learning_rate=attack_params[\"learning_rate\"],\n",
    "                          trigger_size=attack_params[\"trigger_size\"],\n",
    "                          lr_decay_step=attack_params[\"lr_decay_step\"],\n",
    "                          lr_decay=attack_params[\"lr_decay\"],\n",
    "                          num_epochs=attack_params[\"num_epochs\"],\n",
    "                          max_dist=attack_params[\"max_dist\"],\n",
    "                          min_loss=attack_params[\"min_loss\"])"
   ]
  },
  {
   "cell_type": "markdown",
   "id": "b2a72372",
   "metadata": {
    "papermill": {
     "duration": 0.903582,
     "end_time": "2023-08-04T08:51:20.871794",
     "exception": false,
     "start_time": "2023-08-04T08:51:19.968212",
     "status": "completed"
    },
    "tags": []
   },
   "source": [
    "We also need to patch some of the testing images. They will be useful for evaluating the attack."
   ]
  },
  {
   "cell_type": "code",
   "execution_count": 30,
   "id": "477ae269",
   "metadata": {
    "execution": {
     "iopub.execute_input": "2023-08-04T08:51:22.637123Z",
     "iopub.status.busy": "2023-08-04T08:51:22.636744Z",
     "iopub.status.idle": "2023-08-04T08:51:22.821337Z",
     "shell.execute_reply": "2023-08-04T08:51:22.820268Z"
    },
    "papermill": {
     "duration": 1.092939,
     "end_time": "2023-08-04T08:51:22.823805",
     "exception": false,
     "start_time": "2023-08-04T08:51:21.730866",
     "status": "completed"
    },
    "tags": []
   },
   "outputs": [],
   "source": [
    "idx_lst = [i for i in range(x_test.shape[0])]\n",
    "chosen_idx_lst = np.random.choice(idx_lst, attack_params[\"num_test_poisons\"], replace=True)\n",
    "x_test_chosen = x_test[chosen_idx_lst]\n",
    "x_test_poisoned = attacker.patch_samples(x_test_chosen)\n",
    "y_test_poisoned = np.ones(attack_params[\"num_test_poisons\"])\n",
    "x_test = np.concatenate((x_test, x_test_poisoned), axis=0)\n",
    "y_test = np.concatenate((y_test, y_test_poisoned), axis=0)"
   ]
  },
  {
   "cell_type": "code",
   "execution_count": 31,
   "id": "0dfe231a",
   "metadata": {
    "execution": {
     "iopub.execute_input": "2023-08-04T08:51:24.607818Z",
     "iopub.status.busy": "2023-08-04T08:51:24.607451Z",
     "iopub.status.idle": "2023-08-04T08:51:24.612734Z",
     "shell.execute_reply": "2023-08-04T08:51:24.611860Z"
    },
    "papermill": {
     "duration": 0.933205,
     "end_time": "2023-08-04T08:51:24.615782",
     "exception": false,
     "start_time": "2023-08-04T08:51:23.682577",
     "status": "completed"
    },
    "tags": []
   },
   "outputs": [
    {
     "name": "stdout",
     "output_type": "stream",
     "text": [
      "best attack loss was 4287.73291015625\n"
     ]
    }
   ],
   "source": [
    "print(f\"best attack loss was {best_attack['loss']}\")"
   ]
  },
  {
   "cell_type": "markdown",
   "id": "d55550f3",
   "metadata": {
    "papermill": {
     "duration": 0.84484,
     "end_time": "2023-08-04T08:51:26.312535",
     "exception": false,
     "start_time": "2023-08-04T08:51:25.467695",
     "status": "completed"
    },
    "tags": []
   },
   "source": [
    "One of the target images:"
   ]
  },
  {
   "cell_type": "code",
   "execution_count": 32,
   "id": "822e9a2a",
   "metadata": {
    "execution": {
     "iopub.execute_input": "2023-08-04T08:51:28.084877Z",
     "iopub.status.busy": "2023-08-04T08:51:28.084527Z",
     "iopub.status.idle": "2023-08-04T08:51:28.110538Z",
     "shell.execute_reply": "2023-08-04T08:51:28.109698Z"
    },
    "papermill": {
     "duration": 0.898413,
     "end_time": "2023-08-04T08:51:28.113507",
     "exception": false,
     "start_time": "2023-08-04T08:51:27.215094",
     "status": "completed"
    },
    "tags": []
   },
   "outputs": [
    {
     "data": {
      "image/png": "[encoded data removed]",
      "text/plain": [
       "<PIL.Image.Image image mode=RGB size=224x224>"
      ]
     },
     "execution_count": 32,
     "metadata": {},
     "output_type": "execute_result"
    }
   ],
   "source": [
    "Image.fromarray((best_attack['target_images'][0]*255).astype('uint8'))"
   ]
  },
  {
   "cell_type": "markdown",
   "id": "c4ff68bb",
   "metadata": {
    "papermill": {
     "duration": 0.937477,
     "end_time": "2023-08-04T08:51:29.901818",
     "exception": false,
     "start_time": "2023-08-04T08:51:28.964341",
     "status": "completed"
    },
    "tags": []
   },
   "source": [
    "One of the generated poisons corresponding to the target image:"
   ]
  },
  {
   "cell_type": "code",
   "execution_count": 33,
   "id": "dea17190",
   "metadata": {
    "execution": {
     "iopub.execute_input": "2023-08-04T08:51:31.878493Z",
     "iopub.status.busy": "2023-08-04T08:51:31.878129Z",
     "iopub.status.idle": "2023-08-04T08:51:31.907045Z",
     "shell.execute_reply": "2023-08-04T08:51:31.906185Z"
    },
    "papermill": {
     "duration": 1.008554,
     "end_time": "2023-08-04T08:51:31.910308",
     "exception": false,
     "start_time": "2023-08-04T08:51:30.901754",
     "status": "completed"
    },
    "tags": []
   },
   "outputs": [
    {
     "data": {
      "image/png": "[encoded data removed]",
      "text/plain": [
       "<PIL.Image.Image image mode=RGB size=224x224>"
      ]
     },
     "execution_count": 33,
     "metadata": {},
     "output_type": "execute_result"
    }
   ],
   "source": [
    "Image.fromarray((best_attack['poison_images'][0]*255).astype('uint8'))"
   ]
  },
  {
   "cell_type": "markdown",
   "id": "c8423338",
   "metadata": {
    "papermill": {
     "duration": 0.958534,
     "end_time": "2023-08-04T08:51:33.762041",
     "exception": false,
     "start_time": "2023-08-04T08:51:32.803507",
     "status": "completed"
    },
    "tags": []
   },
   "source": [
    "The patched source image corresponding to the target image:"
   ]
  },
  {
   "cell_type": "code",
   "execution_count": 34,
   "id": "1a3e32bb",
   "metadata": {
    "execution": {
     "iopub.execute_input": "2023-08-04T08:51:35.543774Z",
     "iopub.status.busy": "2023-08-04T08:51:35.543385Z",
     "iopub.status.idle": "2023-08-04T08:51:35.582837Z",
     "shell.execute_reply": "2023-08-04T08:51:35.581850Z"
    },
    "papermill": {
     "duration": 0.937041,
     "end_time": "2023-08-04T08:51:35.585325",
     "exception": false,
     "start_time": "2023-08-04T08:51:34.648284",
     "status": "completed"
    },
    "tags": []
   },
   "outputs": [
    {
     "data": {
      "image/png": "[encoded data removed]",
      "text/plain": [
       "<PIL.Image.Image image mode=RGB size=224x224>"
      ]
     },
     "execution_count": 34,
     "metadata": {},
     "output_type": "execute_result"
    }
   ],
   "source": [
    "Image.fromarray((best_attack['patched_source_images'][0]*255).astype('uint8'))"
   ]
  },
  {
   "cell_type": "markdown",
   "id": "4e06cabe",
   "metadata": {
    "papermill": {
     "duration": 0.887519,
     "end_time": "2023-08-04T08:51:37.428133",
     "exception": false,
     "start_time": "2023-08-04T08:51:36.540614",
     "status": "completed"
    },
    "tags": []
   },
   "source": [
    "Are the poison image and the target image the same?"
   ]
  },
  {
   "cell_type": "code",
   "execution_count": 35,
   "id": "1ec240a3",
   "metadata": {
    "execution": {
     "iopub.execute_input": "2023-08-04T08:51:39.244232Z",
     "iopub.status.busy": "2023-08-04T08:51:39.243804Z",
     "iopub.status.idle": "2023-08-04T08:51:39.253973Z",
     "shell.execute_reply": "2023-08-04T08:51:39.250995Z"
    },
    "papermill": {
     "duration": 0.949194,
     "end_time": "2023-08-04T08:51:39.256446",
     "exception": false,
     "start_time": "2023-08-04T08:51:38.307252",
     "status": "completed"
    },
    "tags": []
   },
   "outputs": [
    {
     "data": {
      "text/plain": [
       "7.149121340588316e-05"
      ]
     },
     "execution_count": 35,
     "metadata": {},
     "output_type": "execute_result"
    }
   ],
   "source": [
    "#as we can see thay are very similar in pixel space\n",
    "np.abs(best_attack['poison_images'][0] - best_attack['target_images'][0]).max()"
   ]
  },
  {
   "cell_type": "markdown",
   "id": "138cfefa",
   "metadata": {
    "papermill": {
     "duration": 0.981972,
     "end_time": "2023-08-04T08:51:41.179162",
     "exception": false,
     "start_time": "2023-08-04T08:51:40.197190",
     "status": "completed"
    },
    "tags": []
   },
   "source": [
    "Are the poison image and the target image close in the feature space?"
   ]
  },
  {
   "cell_type": "code",
   "execution_count": 84,
   "id": "af7b773c",
   "metadata": {
    "execution": {
     "iopub.execute_input": "2023-08-04T08:51:42.974702Z",
     "iopub.status.busy": "2023-08-04T08:51:42.974325Z",
     "iopub.status.idle": "2023-08-04T08:51:42.979632Z",
     "shell.execute_reply": "2023-08-04T08:51:42.978701Z"
    },
    "papermill": {
     "duration": 0.928253,
     "end_time": "2023-08-04T08:51:42.981640",
     "exception": false,
     "start_time": "2023-08-04T08:51:42.053387",
     "status": "completed"
    },
    "tags": []
   },
   "outputs": [],
   "source": [
    "def feature_extractor(x: torch.Tensor):\n",
    "  return feature_ext(torch.Tensor(x.permute(0,3,1,2)))[attack_params[\"feature_layer\"]]"
   ]
  },
  {
   "cell_type": "code",
   "execution_count": 85,
   "id": "67451944",
   "metadata": {
    "execution": {
     "iopub.execute_input": "2023-08-04T08:51:44.701429Z",
     "iopub.status.busy": "2023-08-04T08:51:44.701069Z",
     "iopub.status.idle": "2023-08-04T08:51:44.719475Z",
     "shell.execute_reply": "2023-08-04T08:51:44.718510Z"
    },
    "papermill": {
     "duration": 0.880987,
     "end_time": "2023-08-04T08:51:44.721632",
     "exception": false,
     "start_time": "2023-08-04T08:51:43.840645",
     "status": "completed"
    },
    "tags": []
   },
   "outputs": [],
   "source": [
    "tmp_target = torch.Tensor(best_attack['target_images'][0].reshape(1,224,224,3)).to(config['device'])\n",
    "target_fs = feature_extractor(tmp_target)"
   ]
  },
  {
   "cell_type": "code",
   "execution_count": 86,
   "id": "cfb372dd",
   "metadata": {
    "execution": {
     "iopub.execute_input": "2023-08-04T08:51:46.555523Z",
     "iopub.status.busy": "2023-08-04T08:51:46.555036Z",
     "iopub.status.idle": "2023-08-04T08:51:46.568693Z",
     "shell.execute_reply": "2023-08-04T08:51:46.566084Z"
    },
    "papermill": {
     "duration": 0.920716,
     "end_time": "2023-08-04T08:51:46.573339",
     "exception": false,
     "start_time": "2023-08-04T08:51:45.652623",
     "status": "completed"
    },
    "tags": []
   },
   "outputs": [],
   "source": [
    "tmp_poison = torch.Tensor(best_attack['poison_images'][0].reshape(1,224,224,3)).to(config['device'])\n",
    "poison_fs = feature_extractor(tmp_poison)"
   ]
  },
  {
   "cell_type": "code",
   "execution_count": 87,
   "id": "ec827dc2",
   "metadata": {
    "execution": {
     "iopub.execute_input": "2023-08-04T08:51:48.790144Z",
     "iopub.status.busy": "2023-08-04T08:51:48.789782Z",
     "iopub.status.idle": "2023-08-04T08:51:48.798056Z",
     "shell.execute_reply": "2023-08-04T08:51:48.796877Z"
    },
    "papermill": {
     "duration": 0.968775,
     "end_time": "2023-08-04T08:51:48.800560",
     "exception": false,
     "start_time": "2023-08-04T08:51:47.831785",
     "status": "completed"
    },
    "tags": []
   },
   "outputs": [
    {
     "data": {
      "text/plain": [
       "array(1385.8799, dtype=float32)"
      ]
     },
     "execution_count": 87,
     "metadata": {},
     "output_type": "execute_result"
    }
   ],
   "source": [
    "((target_fs - poison_fs)**2).sum().cpu().detach().numpy()"
   ]
  },
  {
   "cell_type": "code",
   "execution_count": 88,
   "id": "65ae7f6d",
   "metadata": {},
   "outputs": [
    {
     "data": {
      "text/plain": [
       "array(4311.765, dtype=float32)"
      ]
     },
     "execution_count": 88,
     "metadata": {},
     "output_type": "execute_result"
    }
   ],
   "source": [
    "#temp_source = torch.Tensor(best_attack['patched_source_images'][0].reshape(1,224,224,3)).to(config['device'])\n",
    "#temp_source_fs2 = feature_extractor(temp_source)\n",
    "#((poison_fs - temp_source_fs2)**2).sum().cpu().detach().numpy()\n",
    "#as we can see the difference here very high as the feature space of the image has been shifted to the other class"
   ]
  },
  {
   "cell_type": "markdown",
   "id": "261f4586",
   "metadata": {
    "papermill": {
     "duration": 0.917209,
     "end_time": "2023-08-04T08:51:50.607454",
     "exception": false,
     "start_time": "2023-08-04T08:51:49.690245",
     "status": "completed"
    },
    "tags": []
   },
   "source": [
    "Now that we have the poisoned images, we should add them to the training set."
   ]
  },
  {
   "cell_type": "code",
   "execution_count": 40,
   "id": "eb8f28ac",
   "metadata": {
    "execution": {
     "iopub.execute_input": "2023-08-04T08:51:52.399826Z",
     "iopub.status.busy": "2023-08-04T08:51:52.399477Z",
     "iopub.status.idle": "2023-08-04T08:51:52.404036Z",
     "shell.execute_reply": "2023-08-04T08:51:52.403070Z"
    },
    "papermill": {
     "duration": 0.866565,
     "end_time": "2023-08-04T08:51:52.406124",
     "exception": false,
     "start_time": "2023-08-04T08:51:51.539559",
     "status": "completed"
    },
    "tags": []
   },
   "outputs": [],
   "source": [
    "poisoned_images = best_attack[\"poison_images\"]"
   ]
  },
  {
   "cell_type": "code",
   "execution_count": 41,
   "id": "d9407b02",
   "metadata": {
    "execution": {
     "iopub.execute_input": "2023-08-04T08:51:54.177298Z",
     "iopub.status.busy": "2023-08-04T08:51:54.176870Z",
     "iopub.status.idle": "2023-08-04T08:51:54.182958Z",
     "shell.execute_reply": "2023-08-04T08:51:54.182096Z"
    },
    "papermill": {
     "duration": 0.860633,
     "end_time": "2023-08-04T08:51:54.184996",
     "exception": false,
     "start_time": "2023-08-04T08:51:53.324363",
     "status": "completed"
    },
    "tags": []
   },
   "outputs": [
    {
     "data": {
      "text/plain": [
       "(50, 224, 224, 3)"
      ]
     },
     "execution_count": 41,
     "metadata": {},
     "output_type": "execute_result"
    }
   ],
   "source": [
    "poisoned_images.shape"
   ]
  },
  {
   "cell_type": "code",
   "execution_count": 42,
   "id": "0766aac8",
   "metadata": {
    "execution": {
     "iopub.execute_input": "2023-08-04T08:51:55.962779Z",
     "iopub.status.busy": "2023-08-04T08:51:55.962430Z",
     "iopub.status.idle": "2023-08-04T08:51:56.720048Z",
     "shell.execute_reply": "2023-08-04T08:51:56.718966Z"
    },
    "papermill": {
     "duration": 1.622857,
     "end_time": "2023-08-04T08:51:56.724870",
     "exception": false,
     "start_time": "2023-08-04T08:51:55.102013",
     "status": "completed"
    },
    "tags": []
   },
   "outputs": [],
   "source": [
    "poisoned_labels = np.array([attack_params[\"target_class\"] for i in range(attack_params[\"num_poisons\"])])\n",
    "x_train_poisoned = np.concatenate((x_train, poisoned_images), axis=0)\n",
    "y_train_poisoned = np.concatenate((y_train, poisoned_labels), axis=0)"
   ]
  },
  {
   "cell_type": "code",
   "execution_count": 43,
   "id": "40485a53",
   "metadata": {
    "execution": {
     "iopub.execute_input": "2023-08-04T08:51:58.556822Z",
     "iopub.status.busy": "2023-08-04T08:51:58.556464Z",
     "iopub.status.idle": "2023-08-04T08:51:58.563954Z",
     "shell.execute_reply": "2023-08-04T08:51:58.563076Z"
    },
    "papermill": {
     "duration": 0.95161,
     "end_time": "2023-08-04T08:51:58.566057",
     "exception": false,
     "start_time": "2023-08-04T08:51:57.614447",
     "status": "completed"
    },
    "tags": []
   },
   "outputs": [],
   "source": [
    "is_poison_train = np.array([0 for i in range(x_train.shape[0])] + [1 for i in range(attack_params[\"num_poisons\"])])\n",
    "is_poison_dev = np.array([0 for i in range(x_dev.shape[0])])\n",
    "is_poison_test = np.array([0 for i in range(x_test.shape[0])])\n",
    "is_poison_test[-(attack_params[\"num_test_poisons\"]):] = 1"
   ]
  },
  {
   "cell_type": "markdown",
   "id": "f5e39ef4",
   "metadata": {
    "papermill": {
     "duration": 0.863231,
     "end_time": "2023-08-04T08:52:04.886796",
     "exception": false,
     "start_time": "2023-08-04T08:52:04.023565",
     "status": "completed"
    },
    "tags": []
   },
   "source": [
    "Now that we have the poisoned images, it's time to fine-tune the model. This way, we'll have a poisoned model!"
   ]
  },
  {
   "cell_type": "markdown",
   "id": "6ff966f1",
   "metadata": {
    "papermill": {
     "duration": 0.91786,
     "end_time": "2023-08-04T08:52:06.664782",
     "exception": false,
     "start_time": "2023-08-04T08:52:05.746922",
     "status": "completed"
    },
    "tags": []
   },
   "source": [
    "Here, we will use Alexnet as our feature extractor."
   ]
  },
  {
   "cell_type": "code",
   "execution_count": 45,
   "id": "bf80ae85",
   "metadata": {
    "execution": {
     "iopub.execute_input": "2023-08-04T08:52:08.467145Z",
     "iopub.status.busy": "2023-08-04T08:52:08.466667Z",
     "iopub.status.idle": "2023-08-04T08:52:10.564224Z",
     "shell.execute_reply": "2023-08-04T08:52:10.563222Z"
    },
    "papermill": {
     "duration": 3.041517,
     "end_time": "2023-08-04T08:52:10.566652",
     "exception": false,
     "start_time": "2023-08-04T08:52:07.525135",
     "status": "completed"
    },
    "tags": []
   },
   "outputs": [],
   "source": [
    "model = models.alexnet(weights=\"IMAGENET1K_V1\")\n",
    "\n",
    "for param in model.parameters():\n",
    "    param.requires_grad = False\n",
    "    \n",
    "model.classifier[6] = nn.Linear(in_features=4096, out_features=1, bias=True)\n",
    "model = model.to(config[\"device\"])"
   ]
  },
  {
   "cell_type": "markdown",
   "id": "2ada9892",
   "metadata": {
    "papermill": {
     "duration": 0.931489,
     "end_time": "2023-08-04T08:52:12.424611",
     "exception": false,
     "start_time": "2023-08-04T08:52:11.493122",
     "status": "completed"
    },
    "tags": []
   },
   "source": [
    "In pytorch, a dataloader is an object which takes slices of our dataset and feeds them to the model. We need to create a dataloader for the training set and another one for the testing set."
   ]
  },
  {
   "cell_type": "code",
   "execution_count": 46,
   "id": "abf13ae2",
   "metadata": {
    "execution": {
     "iopub.execute_input": "2023-08-04T08:52:14.154772Z",
     "iopub.status.busy": "2023-08-04T08:52:14.154320Z",
     "iopub.status.idle": "2023-08-04T08:52:14.162891Z",
     "shell.execute_reply": "2023-08-04T08:52:14.160985Z"
    },
    "papermill": {
     "duration": 0.880105,
     "end_time": "2023-08-04T08:52:14.164908",
     "exception": false,
     "start_time": "2023-08-04T08:52:13.284803",
     "status": "completed"
    },
    "tags": []
   },
   "outputs": [],
   "source": [
    "class MyDataset(Dataset):\n",
    "    def __init__(self, features, labels, is_poison):\n",
    "        self.features = features.transpose(0, 3, 1, 2)\n",
    "        self.labels = np.array(labels).reshape(-1,1)\n",
    "        self.is_poison = is_poison.reshape(-1,1)\n",
    "    def __len__(self):\n",
    "        return len(self.features)\n",
    "    def __getitem__(self, idx):\n",
    "        return torch.Tensor(self.features[idx]).to(config[\"device\"]), torch.Tensor(self.labels[idx]).to(config[\"device\"]), torch.Tensor(self.is_poison[idx]).to(config[\"device\"])"
   ]
  },
  {
   "cell_type": "code",
   "execution_count": 47,
   "id": "03c5c8d6",
   "metadata": {
    "execution": {
     "iopub.execute_input": "2023-08-04T08:52:15.961594Z",
     "iopub.status.busy": "2023-08-04T08:52:15.961198Z",
     "iopub.status.idle": "2023-08-04T08:52:15.969731Z",
     "shell.execute_reply": "2023-08-04T08:52:15.968771Z"
    },
    "papermill": {
     "duration": 0.880456,
     "end_time": "2023-08-04T08:52:15.971783",
     "exception": false,
     "start_time": "2023-08-04T08:52:15.091327",
     "status": "completed"
    },
    "tags": []
   },
   "outputs": [],
   "source": [
    "train_dataset = MyDataset(x_train_poisoned, y_train_poisoned, is_poison_train)\n",
    "train_dataloader = DataLoader(train_dataset, batch_size=config['batch_size'], shuffle=True)\n",
    "dev_dataset = MyDataset(x_dev, y_dev, is_poison_dev)\n",
    "dev_dataloader = DataLoader(dev_dataset, batch_size=config['batch_size'], shuffle=True)\n",
    "test_dataset = MyDataset(x_test, y_test, is_poison_test)\n",
    "test_dataloader = DataLoader(test_dataset, batch_size=config['batch_size'], shuffle=True)"
   ]
  },
  {
   "cell_type": "markdown",
   "id": "14065d0f",
   "metadata": {
    "papermill": {
     "duration": 0.934151,
     "end_time": "2023-08-04T08:52:17.785064",
     "exception": false,
     "start_time": "2023-08-04T08:52:16.850913",
     "status": "completed"
    },
    "tags": []
   },
   "source": [
    "To measure the quality of our generated poisoned images, we need to finetune Alexnet for a binary classification task in which the classes are the source and the target classes. Since our problem is binary classification, we use binary cross-entropy as our loss function. The model's output will be a number between 0 and 1 for each image. We can interpret this number as the probability of the image belonging to the target class. Therefore, we use the sigmoid function as the activation function of the last layer. Moreover, we will use stochastic gradient descent as our optimizer."
   ]
  },
  {
   "cell_type": "code",
   "execution_count": 48,
   "id": "73db8adc",
   "metadata": {
    "execution": {
     "iopub.execute_input": "2023-08-04T08:52:20.024941Z",
     "iopub.status.busy": "2023-08-04T08:52:20.024571Z",
     "iopub.status.idle": "2023-08-04T08:52:20.030177Z",
     "shell.execute_reply": "2023-08-04T08:52:20.028943Z"
    },
    "papermill": {
     "duration": 1.092885,
     "end_time": "2023-08-04T08:52:20.032131",
     "exception": false,
     "start_time": "2023-08-04T08:52:18.939246",
     "status": "completed"
    },
    "tags": []
   },
   "outputs": [],
   "source": [
    "loss_fn = nn.BCELoss()\n",
    "sig = nn.Sigmoid()\n",
    "optimizer = torch.optim.SGD(model.parameters(), lr=config[\"learning_rate\"])"
   ]
  },
  {
   "cell_type": "code",
   "execution_count": 49,
   "id": "42f4e3de",
   "metadata": {
    "execution": {
     "iopub.execute_input": "2023-08-04T08:52:21.916095Z",
     "iopub.status.busy": "2023-08-04T08:52:21.915721Z",
     "iopub.status.idle": "2023-08-04T08:52:21.921731Z",
     "shell.execute_reply": "2023-08-04T08:52:21.920554Z"
    },
    "papermill": {
     "duration": 0.908064,
     "end_time": "2023-08-04T08:52:21.923890",
     "exception": false,
     "start_time": "2023-08-04T08:52:21.015826",
     "status": "completed"
    },
    "tags": []
   },
   "outputs": [],
   "source": [
    "def output_to_label(out):\n",
    "    if out >= 0.5:\n",
    "        return 1\n",
    "    else:\n",
    "        return 0"
   ]
  },
  {
   "cell_type": "markdown",
   "id": "bc3b7462",
   "metadata": {
    "papermill": {
     "duration": 0.929403,
     "end_time": "2023-08-04T08:52:23.829784",
     "exception": false,
     "start_time": "2023-08-04T08:52:22.900381",
     "status": "completed"
    },
    "tags": []
   },
   "source": [
    "To measure benign accuracy and attack success rate for each batch of data, we need a function. This function should know if a sample is poisoned or not, and uses this information to calculate the abovementioned values."
   ]
  },
  {
   "cell_type": "code",
   "execution_count": 50,
   "id": "1e9aed2c",
   "metadata": {
    "execution": {
     "iopub.execute_input": "2023-08-04T08:52:25.637527Z",
     "iopub.status.busy": "2023-08-04T08:52:25.637151Z",
     "iopub.status.idle": "2023-08-04T08:52:25.644593Z",
     "shell.execute_reply": "2023-08-04T08:52:25.643377Z"
    },
    "papermill": {
     "duration": 0.892573,
     "end_time": "2023-08-04T08:52:25.647072",
     "exception": false,
     "start_time": "2023-08-04T08:52:24.754499",
     "status": "completed"
    },
    "tags": []
   },
   "outputs": [],
   "source": [
    "def evaluate_poisoning(y_true, y_pred, is_poison):\n",
    "    benign_count = 0\n",
    "    poison_count = 0\n",
    "    benign_correct_count = 0\n",
    "    poison_correct_count = 0\n",
    "    for _true, _pred, _poison in zip(y_true, y_pred, is_poison):\n",
    "        if _poison:\n",
    "            poison_count += 1\n",
    "            if _true == _pred:\n",
    "                poison_correct_count += 1\n",
    "        else:\n",
    "            benign_count += 1\n",
    "            if _true == _pred:\n",
    "                benign_correct_count += 1\n",
    "    print(poison_count)\n",
    "    return benign_correct_count, benign_count, poison_correct_count, poison_count"
   ]
  },
  {
   "cell_type": "markdown",
   "id": "ddf4d1e6",
   "metadata": {
    "papermill": {
     "duration": 0.921712,
     "end_time": "2023-08-04T08:52:27.429096",
     "exception": false,
     "start_time": "2023-08-04T08:52:26.507384",
     "status": "completed"
    },
    "tags": []
   },
   "source": [
    "Finally, we'll need a training loop and a testing one to train and evaluate our model and the attack."
   ]
  },
  {
   "cell_type": "code",
   "execution_count": 51,
   "id": "7899dc8d",
   "metadata": {
    "execution": {
     "iopub.execute_input": "2023-08-04T08:52:29.180207Z",
     "iopub.status.busy": "2023-08-04T08:52:29.179809Z",
     "iopub.status.idle": "2023-08-04T08:52:29.191509Z",
     "shell.execute_reply": "2023-08-04T08:52:29.190596Z"
    },
    "papermill": {
     "duration": 0.87516,
     "end_time": "2023-08-04T08:52:29.193535",
     "exception": false,
     "start_time": "2023-08-04T08:52:28.318375",
     "status": "completed"
    },
    "tags": []
   },
   "outputs": [],
   "source": [
    "def train_loop(dataloader, model, loss_fn, optimizer, epoch_num):\n",
    "    num_points = len(dataloader.dataset)\n",
    "    for batch, (features, labels, ـ) in enumerate(dataloader):        \n",
    "\n",
    "        pred = model(features)\n",
    "        loss = loss_fn(sig(pred), labels)\n",
    "        \n",
    "        optimizer.zero_grad()\n",
    "        loss.backward()\n",
    "        optimizer.step()\n",
    "\n",
    "        if batch % 100 == 0:\n",
    "            loss, current = loss.item(), batch * len(features)\n",
    "            print(f\"\\r Epoch {epoch_num} - loss: {loss:>7f}  [{current:>5d}/{num_points:>5d}]\", end=\" \")"
   ]
  },
  {
   "cell_type": "code",
   "execution_count": 52,
   "id": "50d78231",
   "metadata": {
    "execution": {
     "iopub.execute_input": "2023-08-04T08:52:31.085962Z",
     "iopub.status.busy": "2023-08-04T08:52:31.085602Z",
     "iopub.status.idle": "2023-08-04T08:52:31.095965Z",
     "shell.execute_reply": "2023-08-04T08:52:31.095085Z"
    },
    "papermill": {
     "duration": 0.952443,
     "end_time": "2023-08-04T08:52:31.097889",
     "exception": false,
     "start_time": "2023-08-04T08:52:30.145446",
     "status": "completed"
    },
    "tags": []
   },
   "outputs": [],
   "source": [
    "def test_loop(dataloader, model, loss_fn, epoch_num, name):\n",
    "    num_points = len(dataloader.dataset)\n",
    "    sum_test_loss = 0\n",
    "    correct_count = 0\n",
    "    benign_correct_count = 0\n",
    "    benign_count = 0\n",
    "    poison_correct_count = 0\n",
    "    poison_count = 0\n",
    "\n",
    "    with torch.no_grad():\n",
    "        for batch, (features, labels, is_poison) in enumerate(dataloader):\n",
    "            is_poison = is_poison.cpu().detach().numpy().squeeze()\n",
    "            pred = model(features)\n",
    "            sum_test_loss += loss_fn(sig(pred), labels).item()\n",
    "            pred_lst = list(sig(pred).cpu().detach().numpy().squeeze())\n",
    "            pred_lst = [output_to_label(pred) for pred in pred_lst]\n",
    "            true_lst = list(labels.cpu().detach().numpy().squeeze())\n",
    "            match_lst = [1 if p == t else 0 for (p, t) in zip(pred_lst, true_lst)] \n",
    "            bcc, bc, pcc, pc = evaluate_poisoning(true_lst, pred_lst, is_poison)\n",
    "            benign_correct_count += bcc\n",
    "            benign_count += bc\n",
    "            poison_correct_count += pcc\n",
    "            poison_count += pc\n",
    "            correct_count += sum(match_lst)\n",
    "            \n",
    "    sum_test_loss /= num_points\n",
    "    accuracy = correct_count / num_points if num_points > 0 else 0\n",
    "    benign_accuracy = benign_correct_count / benign_count if benign_count > 0 else 0\n",
    "    attack_success_rate = poison_correct_count / poison_count if poison_count > 0 else 0\n",
    "    print(f\"\\r Epoch {epoch_num} - {name} Error: Accuracy: {(100*accuracy):>0.1f}%, Benign Accuracy: {(100*benign_accuracy):>0.1f}%, Attack Success Rate: {(100*attack_success_rate):>0.1f}%, Avg loss: {sum_test_loss:>8f}\", end=\" \")"
   ]
  },
  {
   "cell_type": "code",
   "execution_count": 53,
   "id": "457dfd2a",
   "metadata": {
    "execution": {
     "iopub.execute_input": "2023-08-04T08:52:32.882005Z",
     "iopub.status.busy": "2023-08-04T08:52:32.881150Z",
     "iopub.status.idle": "2023-08-04T08:52:34.927462Z",
     "shell.execute_reply": "2023-08-04T08:52:34.926325Z"
    },
    "papermill": {
     "duration": 2.966824,
     "end_time": "2023-08-04T08:52:34.930003",
     "exception": false,
     "start_time": "2023-08-04T08:52:31.963179",
     "status": "completed"
    },
    "tags": []
   },
   "outputs": [
    {
     "name": "stdout",
     "output_type": "stream",
     "text": [
      " Epoch 1 - loss: 0.719033  [    0/  590] 0\n",
      " Epoch 2 - loss: 1.511112  [    0/  590] Accuracy: 33.3%, Benign Accuracy: 33.3%, Attack Success Rate: 0.0%, Avg loss: 0.072708 0\n",
      " Epoch 3 - loss: 0.059589  [    0/  590] Accuracy: 96.7%, Benign Accuracy: 96.7%, Attack Success Rate: 0.0%, Avg loss: 0.002729 0\n",
      " Epoch 4 - loss: 0.058219  [    0/  590] Accuracy: 96.7%, Benign Accuracy: 96.7%, Attack Success Rate: 0.0%, Avg loss: 0.002481 0\n",
      " Epoch 5 - loss: 0.041919  [    0/  590] Accuracy: 100.0%, Benign Accuracy: 100.0%, Attack Success Rate: 0.0%, Avg loss: 0.001885 0\n",
      " Epoch 5 - Development/Validation Error: Accuracy: 100.0%, Benign Accuracy: 100.0%, Attack Success Rate: 0.0%, Avg loss: 0.001017 "
     ]
    }
   ],
   "source": [
    "for epoch_num in range(1, config['num_epochs']+1):\n",
    "    train_loop(train_dataloader, model, loss_fn, optimizer, epoch_num)\n",
    "    test_loop(dev_dataloader, model, loss_fn, epoch_num, \"Development/Validation\")"
   ]
  },
  {
   "cell_type": "code",
   "execution_count": 54,
   "id": "049c33f0",
   "metadata": {
    "execution": {
     "iopub.execute_input": "2023-08-04T08:52:36.696883Z",
     "iopub.status.busy": "2023-08-04T08:52:36.696506Z",
     "iopub.status.idle": "2023-08-04T08:52:36.759340Z",
     "shell.execute_reply": "2023-08-04T08:52:36.758042Z"
    },
    "papermill": {
     "duration": 0.979729,
     "end_time": "2023-08-04T08:52:36.761461",
     "exception": false,
     "start_time": "2023-08-04T08:52:35.781732",
     "status": "completed"
    },
    "tags": []
   },
   "outputs": [
    {
     "name": "stdout",
     "output_type": "stream",
     "text": [
      "50\n",
      " Epoch 5 - Testing Error: Accuracy: 67.5%, Benign Accuracy: 96.7%, Attack Success Rate: 50.0%, Avg loss: 0.015017 "
     ]
    }
   ],
   "source": [
    "test_loop(test_dataloader, model, loss_fn, epoch_num, \"Testing\")"
   ]
  },
  {
   "cell_type": "code",
   "execution_count": null,
   "id": "0a69ec46",
   "metadata": {
    "execution": {
     "iopub.execute_input": "2023-08-04T08:52:38.540094Z",
     "iopub.status.busy": "2023-08-04T08:52:38.539716Z",
     "iopub.status.idle": "2023-08-04T08:52:41.760599Z",
     "shell.execute_reply": "2023-08-04T08:52:41.759583Z"
    },
    "papermill": {
     "duration": 4.14835,
     "end_time": "2023-08-04T08:52:41.763269",
     "exception": false,
     "start_time": "2023-08-04T08:52:37.614919",
     "status": "completed"
    },
    "tags": []
   },
   "outputs": [],
   "source": [
    "#torch.save(model.state_dict(), \"fine-tuned-model.pth\")"
   ]
  }
 ],
 "metadata": {
  "kernelspec": {
   "display_name": "Python 3",
   "language": "python",
   "name": "python3"
  },
  "language_info": {
   "codemirror_mode": {
    "name": "ipython",
    "version": 3
   },
   "file_extension": ".py",
   "mimetype": "text/x-python",
   "name": "python",
   "nbconvert_exporter": "python",
   "pygments_lexer": "ipython3",
   "version": "3.10.7"
  },
  "papermill": {
   "default_parameters": {},
   "duration": 2552.472141,
   "end_time": "2023-08-04T08:52:45.620825",
   "environment_variables": {},
   "exception": null,
   "input_path": "__notebook__.ipynb",
   "output_path": "__notebook__.ipynb",
   "parameters": {},
   "start_time": "2023-08-04T08:10:13.148684",
   "version": "2.4.0"
  }
 },
 "nbformat": 4,
 "nbformat_minor": 5
}
